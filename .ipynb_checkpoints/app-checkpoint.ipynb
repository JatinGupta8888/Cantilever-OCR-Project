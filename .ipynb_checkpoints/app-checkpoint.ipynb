{
 "cells": [
  {
   "cell_type": "code",
   "execution_count": 12,
   "id": "742656da-63b3-4782-8d44-7a339758866d",
   "metadata": {},
   "outputs": [
    {
     "name": "stdout",
     "output_type": "stream",
     "text": [
      " * Serving Flask app 'Untitled'\n",
      " * Debug mode: on\n"
     ]
    },
    {
     "name": "stderr",
     "output_type": "stream",
     "text": [
      "WARNING: This is a development server. Do not use it in a production deployment. Use a production WSGI server instead.\n",
      " * Running on http://127.0.0.1:5000\n",
      "Press CTRL+C to quit\n",
      " * Restarting with stat\n"
     ]
    },
    {
     "ename": "SystemExit",
     "evalue": "1",
     "output_type": "error",
     "traceback": [
      "An exception has occurred, use %tb to see the full traceback.\n",
      "\u001b[1;31mSystemExit\u001b[0m\u001b[1;31m:\u001b[0m 1\n"
     ]
    },
    {
     "name": "stderr",
     "output_type": "stream",
     "text": [
      "C:\\Users\\arins\\AppData\\Local\\Programs\\Python\\Python311\\Lib\\site-packages\\IPython\\core\\interactiveshell.py:3450: UserWarning: To exit: use 'exit', 'quit', or Ctrl-D.\n",
      "  warn(\"To exit: use 'exit', 'quit', or Ctrl-D.\", stacklevel=1)\n"
     ]
    }
   ],
   "source": [
    "from flask import Flask, render_template, request, redirect, url_for\n",
    "import os\n",
    "from werkzeug.utils import secure_filename\n",
    "import pytesseract\n",
    "import cv2\n",
    "\n",
    "app = Flask(__name__)\n",
    "app.config['UPLOAD_FOLDER'] = 'uploads'\n",
    "app.config['ALLOWED_EXTENSIONS'] = {'pdf', 'jpg', 'jpeg', 'png'}\n",
    "\n",
    "# Function to check if the file extension is allowed\n",
    "def allowed_file(filename):\n",
    "    return '.' in filename and filename.rsplit('.', 1)[1].lower() in app.config['ALLOWED_EXTENSIONS']\n",
    "\n",
    "# Function to extract text from an image using Tesseract OCR\n",
    "def extract_text(image_path):\n",
    "    img = cv2.imread(image_path)\n",
    "    text = pytesseract.image_to_string(img)\n",
    "    return text\n",
    "\n",
    "# Route for the home page\n",
    "@app.route('/', methods=['GET', 'POST'])\n",
    "def upload_file():\n",
    "    if request.method == 'POST':\n",
    "        # Check if a file was submitted\n",
    "        if 'file' not in request.files:\n",
    "            return redirect(request.url)\n",
    "        \n",
    "        file = request.files['file']\n",
    "\n",
    "        # If the user does not select a file, browser also\n",
    "        # submit an empty part without filename\n",
    "        if file.filename == '':\n",
    "            return redirect(request.url)\n",
    "\n",
    "        if file and allowed_file(file.filename):\n",
    "            # Save the uploaded file\n",
    "            filename = secure_filename(file.filename)\n",
    "            file_path = os.path.join(app.config['UPLOAD_FOLDER'], filename)\n",
    "            file.save(file_path)\n",
    "\n",
    "            # Extract text from the uploaded image\n",
    "            extracted_text = extract_text(file_path)\n",
    "\n",
    "            # Call your model for classification here\n",
    "            # Replace this with your actual model prediction logic\n",
    "            # Example placeholder\n",
    "            model_output = \"Sample model output\"\n",
    "\n",
    "            return render_template('result.html', filename=filename, extracted_text=extracted_text, model_output=model_output)\n",
    "\n",
    "    return render_template('upload.html')\n",
    "\n",
    "if __name__ == '__main__':\n",
    "    app.run(debug=True)\n"
   ]
  },
  {
   "cell_type": "code",
   "execution_count": null,
   "id": "49aa37cb-c3fb-45f6-834b-a957bc6f1ee3",
   "metadata": {},
   "outputs": [],
   "source": []
  }
 ],
 "metadata": {
  "kernelspec": {
   "display_name": "Python 3 (ipykernel)",
   "language": "python",
   "name": "python3"
  },
  "language_info": {
   "codemirror_mode": {
    "name": "ipython",
    "version": 3
   },
   "file_extension": ".py",
   "mimetype": "text/x-python",
   "name": "python",
   "nbconvert_exporter": "python",
   "pygments_lexer": "ipython3",
   "version": "3.11.1"
  }
 },
 "nbformat": 4,
 "nbformat_minor": 5
}
