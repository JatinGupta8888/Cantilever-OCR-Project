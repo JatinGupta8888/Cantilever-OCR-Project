{
 "cells": [
  {
   "cell_type": "code",
   "execution_count": 1,
   "id": "6127d77d-e2d1-4f85-beef-22c4bb466064",
   "metadata": {},
   "outputs": [],
   "source": [
    "import pandas as pd \n",
    "import numpy as np\n",
    "import re\n",
    "import nltk\n",
    "from nltk.tokenize import word_tokenize\n",
    "from nltk.corpus import stopwords\n",
    "from nltk.stem import SnowballStemmer\n",
    "from sklearn.ensemble import RandomForestClassifier\n",
    "from sklearn.model_selection import train_test_split\n",
    "from sklearn.metrics import classification_report\n",
    "from sklearn.feature_extraction.text import CountVectorizer\n",
    "import pickle\n",
    "import warnings\n",
    "warnings.filterwarnings(\"ignore\")"
   ]
  },
  {
   "cell_type": "code",
   "execution_count": 2,
   "id": "1f4e9a62-89b2-44dd-924c-216b8dd64ffd",
   "metadata": {},
   "outputs": [],
   "source": [
    "df = pd.read_csv('train.csv')"
   ]
  },
  {
   "cell_type": "markdown",
   "id": "10331be4-b372-4eda-80ef-b726320d84ad",
   "metadata": {},
   "source": [
    "I used a 3rd party kagglr dataset to train my news classifier model"
   ]
  },
  {
   "cell_type": "code",
   "execution_count": 3,
   "id": "4b247f1b-8ad2-45ee-a078-4f829c6bc0fb",
   "metadata": {},
   "outputs": [
    {
     "data": {
      "text/html": [
       "<div>\n",
       "<style scoped>\n",
       "    .dataframe tbody tr th:only-of-type {\n",
       "        vertical-align: middle;\n",
       "    }\n",
       "\n",
       "    .dataframe tbody tr th {\n",
       "        vertical-align: top;\n",
       "    }\n",
       "\n",
       "    .dataframe thead th {\n",
       "        text-align: right;\n",
       "    }\n",
       "</style>\n",
       "<table border=\"1\" class=\"dataframe\">\n",
       "  <thead>\n",
       "    <tr style=\"text-align: right;\">\n",
       "      <th></th>\n",
       "      <th>Class Index</th>\n",
       "      <th>Title</th>\n",
       "      <th>Description</th>\n",
       "    </tr>\n",
       "  </thead>\n",
       "  <tbody>\n",
       "    <tr>\n",
       "      <th>0</th>\n",
       "      <td>3</td>\n",
       "      <td>Wall St. Bears Claw Back Into the Black (Reuters)</td>\n",
       "      <td>Reuters - Short-sellers, Wall Street's dwindli...</td>\n",
       "    </tr>\n",
       "    <tr>\n",
       "      <th>1</th>\n",
       "      <td>3</td>\n",
       "      <td>Carlyle Looks Toward Commercial Aerospace (Reu...</td>\n",
       "      <td>Reuters - Private investment firm Carlyle Grou...</td>\n",
       "    </tr>\n",
       "    <tr>\n",
       "      <th>2</th>\n",
       "      <td>3</td>\n",
       "      <td>Oil and Economy Cloud Stocks' Outlook (Reuters)</td>\n",
       "      <td>Reuters - Soaring crude prices plus worries\\ab...</td>\n",
       "    </tr>\n",
       "    <tr>\n",
       "      <th>3</th>\n",
       "      <td>3</td>\n",
       "      <td>Iraq Halts Oil Exports from Main Southern Pipe...</td>\n",
       "      <td>Reuters - Authorities have halted oil export\\f...</td>\n",
       "    </tr>\n",
       "    <tr>\n",
       "      <th>4</th>\n",
       "      <td>3</td>\n",
       "      <td>Oil prices soar to all-time record, posing new...</td>\n",
       "      <td>AFP - Tearaway world oil prices, toppling reco...</td>\n",
       "    </tr>\n",
       "  </tbody>\n",
       "</table>\n",
       "</div>"
      ],
      "text/plain": [
       "   Class Index                                              Title  \\\n",
       "0            3  Wall St. Bears Claw Back Into the Black (Reuters)   \n",
       "1            3  Carlyle Looks Toward Commercial Aerospace (Reu...   \n",
       "2            3    Oil and Economy Cloud Stocks' Outlook (Reuters)   \n",
       "3            3  Iraq Halts Oil Exports from Main Southern Pipe...   \n",
       "4            3  Oil prices soar to all-time record, posing new...   \n",
       "\n",
       "                                         Description  \n",
       "0  Reuters - Short-sellers, Wall Street's dwindli...  \n",
       "1  Reuters - Private investment firm Carlyle Grou...  \n",
       "2  Reuters - Soaring crude prices plus worries\\ab...  \n",
       "3  Reuters - Authorities have halted oil export\\f...  \n",
       "4  AFP - Tearaway world oil prices, toppling reco...  "
      ]
     },
     "execution_count": 3,
     "metadata": {},
     "output_type": "execute_result"
    }
   ],
   "source": [
    "df.head()"
   ]
  },
  {
   "cell_type": "markdown",
   "id": "df7893f3-6346-41c7-992d-7bc5adfb5e6e",
   "metadata": {},
   "source": [
    "Consists of class ids 1-4 where 1-World, 2-Sports, 3-Business, 4-Sci/Tech"
   ]
  },
  {
   "cell_type": "markdown",
   "id": "ac650520-6db8-478d-b2cf-dadddf36e7b0",
   "metadata": {},
   "source": [
    "#### Model aim is for classification so merging Title and Description will take priority"
   ]
  },
  {
   "cell_type": "code",
   "execution_count": 4,
   "id": "a2986520-0b57-4c91-8815-a49cee51971b",
   "metadata": {},
   "outputs": [],
   "source": [
    "df['text'] = df.apply(lambda x: x['Title'] + ' ' + x['Description'],axis=1)"
   ]
  },
  {
   "cell_type": "code",
   "execution_count": 5,
   "id": "79c77275-8eaa-4db6-bea6-a4457b580118",
   "metadata": {},
   "outputs": [],
   "source": [
    "df.drop(['Title','Description'],axis=1,inplace=True)\n",
    "df['classes'] = df['Class Index']"
   ]
  },
  {
   "cell_type": "code",
   "execution_count": 6,
   "id": "e2662991-1098-471c-9220-0ea1bfe5ee9b",
   "metadata": {},
   "outputs": [
    {
     "name": "stdout",
     "output_type": "stream",
     "text": [
      "<class 'pandas.core.frame.DataFrame'>\n",
      "RangeIndex: 120000 entries, 0 to 119999\n",
      "Data columns (total 3 columns):\n",
      " #   Column       Non-Null Count   Dtype \n",
      "---  ------       --------------   ----- \n",
      " 0   Class Index  120000 non-null  int64 \n",
      " 1   text         120000 non-null  object\n",
      " 2   classes      120000 non-null  int64 \n",
      "dtypes: int64(2), object(1)\n",
      "memory usage: 2.7+ MB\n"
     ]
    }
   ],
   "source": [
    "df.info()"
   ]
  },
  {
   "cell_type": "code",
   "execution_count": 7,
   "id": "2e803294-20e5-4ebd-91f8-f395e020fe92",
   "metadata": {},
   "outputs": [
    {
     "data": {
      "text/plain": [
       "3    25.0\n",
       "4    25.0\n",
       "2    25.0\n",
       "1    25.0\n",
       "Name: classes, dtype: float64"
      ]
     },
     "execution_count": 7,
     "metadata": {},
     "output_type": "execute_result"
    }
   ],
   "source": [
    "df['classes'].value_counts(normalize=True)*100"
   ]
  },
  {
   "cell_type": "markdown",
   "id": "e65509e7-3aa5-44da-a0bc-1941a8cd1448",
   "metadata": {},
   "source": [
    "Classes are distributed in exact proportions"
   ]
  },
  {
   "cell_type": "markdown",
   "id": "13a0150a-ae86-478e-a786-ecd7665dfc37",
   "metadata": {},
   "source": [
    "## Text Cleaning & Preprocessing\n"
   ]
  },
  {
   "cell_type": "markdown",
   "id": "3bba6c76-db9c-425d-9611-3451cfbc748f",
   "metadata": {},
   "source": [
    "##### I am removing the special numbers as well because we want a classification using count vectirization, So textual data is enough to classify it\n"
   ]
  },
  {
   "cell_type": "code",
   "execution_count": 8,
   "id": "521924de-f986-46e2-8891-aa0cfc695b4a",
   "metadata": {},
   "outputs": [],
   "source": [
    "def text_cleaning(text):\n",
    "    text = text.lower().strip()\n",
    "    \n",
    "    pattern = re.compile('\\W')\n",
    "    text = re.sub(pattern, ' ', text).strip()\n",
    "\n",
    "    pattern = re.compile(r'\\d+')\n",
    "    text = re.sub(pattern, '', text)\n",
    "    \n",
    "    text = re.sub(r'\\s+', ' ', text).strip() # Removing extra whitespace\n",
    "    \n",
    "    return text\n",
    "\n",
    "df['text'] = df['text'].apply(text_cleaning)"
   ]
  },
  {
   "cell_type": "markdown",
   "id": "3261d1b1-adaa-4d0e-b5ca-5ab9b02d83e2",
   "metadata": {},
   "source": [
    "Stopwords and Stemming"
   ]
  },
  {
   "cell_type": "code",
   "execution_count": 9,
   "id": "79bc04c8-9014-41b7-bbf0-568c74d45468",
   "metadata": {},
   "outputs": [],
   "source": [
    "stop_words = stopwords.words('english')\n",
    "stemmer = SnowballStemmer('english')\n",
    "\n",
    "def stopword_stemming(text):\n",
    "    tokens = word_tokenize(text)\n",
    "    tokens = [stemmer.stem(word) for word in tokens if word.lower() not in stop_words]\n",
    "    return ' '.join(tokens)\n",
    "\n",
    "df['text'] = df['text'].apply(stopword_stemming)"
   ]
  },
  {
   "cell_type": "markdown",
   "id": "7fbdd201-1441-4560-8797-ddc287c07c2a",
   "metadata": {},
   "source": [
    "#### Count Vectorizer Instance"
   ]
  },
  {
   "cell_type": "code",
   "execution_count": 10,
   "id": "ebb06ef5-4a39-4d02-bbdb-da418e8f8c70",
   "metadata": {},
   "outputs": [],
   "source": [
    "cv = CountVectorizer(max_features = 10000)\n",
    "X_train = cv.fit_transform(df['text']).toarray()"
   ]
  },
  {
   "cell_type": "code",
   "execution_count": 11,
   "id": "1f2febc0-a76a-49ce-b9b4-e2151aa29c55",
   "metadata": {},
   "outputs": [],
   "source": [
    "y_train = df['classes'].tolist()"
   ]
  },
  {
   "cell_type": "markdown",
   "id": "5d7fa6a5-5d30-486b-9235-59e3350d2833",
   "metadata": {},
   "source": [
    "##### Loading the test datset"
   ]
  },
  {
   "cell_type": "code",
   "execution_count": 12,
   "id": "0dfcaac4-91c3-47c6-b3d9-fdfa78a4bc83",
   "metadata": {},
   "outputs": [],
   "source": [
    "df_test = pd.read_csv('test.csv')"
   ]
  },
  {
   "cell_type": "code",
   "execution_count": 13,
   "id": "171a1ed9-d215-412e-8457-23e88872fa16",
   "metadata": {},
   "outputs": [],
   "source": [
    "df_test['text'] = df_test.apply(lambda x: x['Title'] + ' ' + x['Description'],axis=1)\n",
    "df_test.drop(['Title','Description'],axis=1,inplace=True)\n",
    "df_test['classes'] = df_test['Class Index']\n",
    "df_test['text'] = df_test['text'].apply(text_cleaning)\n",
    "df_test['text'] = df_test['text'].apply(stopword_stemming)\n",
    "X_test = cv.transform(df_test['text']).toarray()\n",
    "y_test = df_test['classes'].tolist()"
   ]
  },
  {
   "cell_type": "markdown",
   "id": "60ca2b02-c52e-46f5-8672-c12d34bcebf5",
   "metadata": {},
   "source": [
    "### RandoM Forest Classification "
   ]
  },
  {
   "cell_type": "code",
   "execution_count": 16,
   "id": "a6bae427-72c9-456c-8f64-21b5d4123043",
   "metadata": {},
   "outputs": [
    {
     "name": "stdout",
     "output_type": "stream",
     "text": [
      "--------------------------------------- RandomForest --------------------------------------\n",
      "              precision    recall  f1-score   support\n",
      "\n",
      "           1       0.91      0.89      0.90      1900\n",
      "           2       0.92      0.97      0.95      1900\n",
      "           3       0.87      0.85      0.86      1900\n",
      "           4       0.87      0.86      0.87      1900\n",
      "\n",
      "    accuracy                           0.89      7600\n",
      "   macro avg       0.89      0.89      0.89      7600\n",
      "weighted avg       0.89      0.89      0.89      7600\n",
      "\n"
     ]
    }
   ],
   "source": [
    "RF = RandomForestClassifier(criterion = \"entropy\", n_estimators = 300)\n",
    "\n",
    "RF.fit(X_train, y_train)\n",
    "y_pred = RF.predict(X_test)\n",
    "print(classification_report(y_test, y_pred))"
   ]
  },
  {
   "cell_type": "markdown",
   "id": "e1dcbd6b-11ed-4d6b-a966-8cd60096ef45",
   "metadata": {},
   "source": [
    "##### RF model has an accuracy of 89%"
   ]
  },
  {
   "cell_type": "code",
   "execution_count": 18,
   "id": "f94cb215-d164-44f6-84b8-af08ee300657",
   "metadata": {},
   "outputs": [],
   "source": [
    "with open('RF.pkl','wb') as file:\n",
    "    pickle.dump(RF,file)"
   ]
  }
 ],
 "metadata": {
  "kernelspec": {
   "display_name": "Python 3 (ipykernel)",
   "language": "python",
   "name": "python3"
  },
  "language_info": {
   "codemirror_mode": {
    "name": "ipython",
    "version": 3
   },
   "file_extension": ".py",
   "mimetype": "text/x-python",
   "name": "python",
   "nbconvert_exporter": "python",
   "pygments_lexer": "ipython3",
   "version": "3.11.1"
  }
 },
 "nbformat": 4,
 "nbformat_minor": 5
}
